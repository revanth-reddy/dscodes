{
 "cells": [
  {
   "cell_type": "code",
   "execution_count": 1,
   "id": "57423c3d-9e8e-4cda-b5ef-a96554a74246",
   "metadata": {},
   "outputs": [],
   "source": [
    "import pandas as pd\n",
    "from sklearn.ensemble import RandomForestClassifier\n",
    "from sklearn.metrics import accuracy_score\n",
    "from sklearn.model_selection import train_test_split\n",
    "import pickle\n",
    "import requests"
   ]
  },
  {
   "cell_type": "code",
   "execution_count": 3,
   "id": "c08d2cd4-7b97-4618-8fcb-27e88f1b7843",
   "metadata": {},
   "outputs": [],
   "source": [
    "raws_data = pd.read_csv('recent_wildfires.csv')"
   ]
  },
  {
   "cell_type": "code",
   "execution_count": 4,
   "id": "8a6e9e76-b645-4f12-bbf5-5609ecf2d758",
   "metadata": {},
   "outputs": [],
   "source": [
    "df = raws_data.filter(['X', 'Y', 'FireCause', 'FireDiscoveryDateTime'])"
   ]
  },
  {
   "cell_type": "code",
   "execution_count": 6,
   "id": "9f7dae30-269c-4b63-ab10-9786f23b5133",
   "metadata": {},
   "outputs": [],
   "source": [
    "# Create a dataset of non human fires\n",
    "non_human_fires = df[df['FireCause']!='Human']\n",
    "non_human_fires = pd.DataFrame(non_human_fires)"
   ]
  },
  {
   "cell_type": "code",
   "execution_count": 7,
   "id": "d8005612-fdaa-4076-9ab3-d198c93d4293",
   "metadata": {},
   "outputs": [],
   "source": [
    "non_human_fires[['temp', 'humidity', 'precip', 'windspeed', 'solarradiation']] = ''"
   ]
  },
  {
   "cell_type": "code",
   "execution_count": 8,
   "id": "a697e570-42a3-4086-a91d-77316877b017",
   "metadata": {},
   "outputs": [],
   "source": [
    "for index, row in non_human_fires.iterrows():\n",
    "    fire_date = row[\"FireDiscoveryDateTime\"].split(\" \")[0].replace(\"/\",\"-\")\n",
    "    lng, lat = str(row[\"Y\"]), str(row[\"X\"])\n",
    "    \n",
    "    url = \"https://weather.visualcrossing.com/VisualCrossingWebServices/rest/services/timeline/\" \\\n",
    "        + lng + \",\" + lat + \"/\" + fire_date + \"/\" + fire_date \\\n",
    "        + \"?unitGroup=us&include=days&key=N34H8P28WBZH5ADUJAVME467A&contentType=json\"\n",
    "    response = requests.request(\"GET\", url)\n",
    "    if response.status_code!=200:\n",
    "        print(index, 'Unexpected Status code: ', response.status_code, response.text)\n",
    "        break\n",
    "    else:\n",
    "        # print(response.text)\n",
    "        wd = response.json()\n",
    "        wd = wd['days'][0]\n",
    "        non_human_fires.at[index, 'temp'] = wd['temp'] if 'temp' in wd else np.nan\n",
    "        non_human_fires.at[index, 'humidity'] = wd['humidity'] if 'humidity' in wd else np.nan\n",
    "        non_human_fires.at[index, 'precip'] = wd['precip'] if 'precip' in wd else np.nan\n",
    "        non_human_fires.at[index, 'windspeed'] = wd['windspeed'] if 'windspeed' in wd else np.nan\n",
    "        non_human_fires.at[index, 'solarradiation'] = wd['solarradiation'] if 'solarradiation' in wd else np.nan\n",
    "        "
   ]
  },
  {
   "cell_type": "code",
   "execution_count": 9,
   "id": "7736b9d6-1860-490a-89da-e0c1ca382435",
   "metadata": {},
   "outputs": [],
   "source": [
    "non_human_fires = non_human_fires.drop('FireCause', axis=1)"
   ]
  },
  {
   "cell_type": "code",
   "execution_count": 10,
   "id": "75df9abe-31f4-4ad0-93e2-8da35e3b68d9",
   "metadata": {},
   "outputs": [],
   "source": [
    "non_human_fires['Date'] = pd.to_datetime(non_human_fires['FireDiscoveryDateTime']).astype(int) / 10**12\n",
    "non_human_fires = non_human_fires.drop('FireDiscoveryDateTime', axis=1)"
   ]
  },
  {
   "cell_type": "code",
   "execution_count": 11,
   "id": "a61fafc6-336b-4efd-9924-edb44e1c82c2",
   "metadata": {},
   "outputs": [],
   "source": [
    "non_human_fires = non_human_fires[['Y', 'X', 'temp', 'Date', 'precip', 'humidity', 'solarradiation', 'windspeed']]\n",
    "loaded_model = None\n",
    "with open('wildfire_model.pkl', 'rb') as f:\n",
    "    loaded_model = pickle.load(f)"
   ]
  },
  {
   "cell_type": "code",
   "execution_count": 13,
   "id": "9eb2f6cc-5d9c-457d-8639-fffde424e922",
   "metadata": {},
   "outputs": [
    {
     "name": "stdout",
     "output_type": "stream",
     "text": [
      "data prediction of index: 0 is:  [ True] [[0. 1.]]\n",
      "data prediction of index: 1 is:  [ True] [[0.01 0.99]]\n",
      "data prediction of index: 2 is:  [ True] [[0.19 0.81]]\n",
      "data prediction of index: 3 is:  [ True] [[0.41 0.59]]\n",
      "data prediction of index: 5 is:  [ True] [[0.13 0.87]]\n",
      "data prediction of index: 10 is:  [ True] [[0. 1.]]\n",
      "data prediction of index: 11 is:  [False] [[0.57 0.43]]\n",
      "data prediction of index: 12 is:  [False] [[0.57 0.43]]\n",
      "data prediction of index: 13 is:  [ True] [[0.33 0.67]]\n",
      "data prediction of index: 14 is:  [False] [[0.61 0.39]]\n",
      "data prediction of index: 16 is:  [False] [[0.61 0.39]]\n",
      "data prediction of index: 17 is:  [ True] [[0. 1.]]\n",
      "data prediction of index: 18 is:  [ True] [[0.4 0.6]]\n",
      "data prediction of index: 19 is:  [ True] [[0.46 0.54]]\n",
      "data prediction of index: 20 is:  [ True] [[0. 1.]]\n",
      "data prediction of index: 21 is:  [False] [[0.75 0.25]]\n",
      "data prediction of index: 22 is:  [ True] [[0.01 0.99]]\n",
      "data prediction of index: 23 is:  [False] [[0.65 0.35]]\n",
      "data prediction of index: 25 is:  [False] [[0.56 0.44]]\n",
      "data prediction of index: 26 is:  [False] [[0.54 0.46]]\n",
      "data prediction of index: 27 is:  [ True] [[0.42 0.58]]\n",
      "data prediction of index: 28 is:  [ True] [[0.18 0.82]]\n",
      "data prediction of index: 30 is:  [ True] [[0.18 0.82]]\n",
      "data prediction of index: 31 is:  [False] [[0.5 0.5]]\n",
      "data prediction of index: 32 is:  [ True] [[0.24 0.76]]\n",
      "data prediction of index: 33 is:  [False] [[0.57 0.43]]\n",
      "data prediction of index: 34 is:  [False] [[0.66 0.34]]\n",
      "data prediction of index: 36 is:  [ True] [[0. 1.]]\n",
      "data prediction of index: 37 is:  [ True] [[0.02 0.98]]\n",
      "data prediction of index: 38 is:  [ True] [[0.34 0.66]]\n",
      "data prediction of index: 40 is:  [ True] [[0.03 0.97]]\n"
     ]
    }
   ],
   "source": [
    "import csv\n",
    "\n",
    "with open('/home/revanth/tamids/output.csv', 'w', newline='') as file:\n",
    "    writer = csv.writer(file)\n",
    "    # writer.writerow(['Y', 'X', 'prediction'])\n",
    "    for index, row in non_human_fires.iterrows():\n",
    "        incident = row.to_frame().T\n",
    "        prediction = loaded_model.predict(incident)\n",
    "        prediction_prob = loaded_model.predict_proba(incident)\n",
    "        print(\"data prediction of index:\", index, \"is: \", prediction, prediction_prob)\n",
    "        \n",
    "        writer.writerow([row['Y'],row['X'], int(prediction_prob[0][1] * 10)])"
   ]
  },
  {
   "cell_type": "code",
   "execution_count": null,
   "id": "f8614eef-78af-4274-9ac2-96e111400905",
   "metadata": {},
   "outputs": [],
   "source": []
  }
 ],
 "metadata": {
  "kernelspec": {
   "display_name": "py39-test",
   "language": "python",
   "name": "py39-test"
  },
  "language_info": {
   "codemirror_mode": {
    "name": "ipython",
    "version": 3
   },
   "file_extension": ".py",
   "mimetype": "text/x-python",
   "name": "python",
   "nbconvert_exporter": "python",
   "pygments_lexer": "ipython3",
   "version": "3.9.13"
  }
 },
 "nbformat": 4,
 "nbformat_minor": 5
}
