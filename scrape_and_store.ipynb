{
 "cells": [
  {
   "cell_type": "code",
   "execution_count": 2,
   "id": "e6dd496b-70e3-4392-82ff-6490e8d671a5",
   "metadata": {},
   "outputs": [],
   "source": [
    "import pandas as pd\n",
    "import requests\n",
    "import sys\n",
    "import json\n",
    "import numpy as np"
   ]
  },
  {
   "cell_type": "code",
   "execution_count": 3,
   "id": "22728197-1758-4053-8b16-3e167f517b39",
   "metadata": {},
   "outputs": [],
   "source": [
    "df = pd.read_csv('fire_and_weather_data.csv', low_memory=False)"
   ]
  },
  {
   "cell_type": "code",
   "execution_count": 4,
   "id": "ef444cd8-51d2-4dce-950b-b9b65ca3ea8b",
   "metadata": {},
   "outputs": [
    {
     "data": {
      "text/plain": [
       "250342"
      ]
     },
     "execution_count": 4,
     "metadata": {},
     "output_type": "execute_result"
    }
   ],
   "source": [
    "n = len(df)\n",
    "n"
   ]
  },
  {
   "cell_type": "code",
   "execution_count": 5,
   "id": "478c1b84-40d9-4765-b65f-7c913681327a",
   "metadata": {},
   "outputs": [],
   "source": [
    "# df = df.drop(labels=['test'],axis=1)\n",
    "df.weather_data = df.weather_data.fillna('')"
   ]
  },
  {
   "cell_type": "code",
   "execution_count": 6,
   "id": "ebcc0705-2b1e-4fdc-a5a3-bf9b6dfa84af",
   "metadata": {},
   "outputs": [
    {
     "data": {
      "text/html": [
       "<div>\n",
       "<style scoped>\n",
       "    .dataframe tbody tr th:only-of-type {\n",
       "        vertical-align: middle;\n",
       "    }\n",
       "\n",
       "    .dataframe tbody tr th {\n",
       "        vertical-align: top;\n",
       "    }\n",
       "\n",
       "    .dataframe thead th {\n",
       "        text-align: right;\n",
       "    }\n",
       "</style>\n",
       "<table border=\"1\" class=\"dataframe\">\n",
       "  <thead>\n",
       "    <tr style=\"text-align: right;\">\n",
       "      <th></th>\n",
       "      <th>Unnamed: 0.1</th>\n",
       "      <th>Unnamed: 0</th>\n",
       "      <th>X</th>\n",
       "      <th>Y</th>\n",
       "      <th>FireCause</th>\n",
       "      <th>FireDiscoveryDateTime</th>\n",
       "      <th>POOCounty</th>\n",
       "      <th>POOFips</th>\n",
       "      <th>POOState</th>\n",
       "      <th>weather_data</th>\n",
       "    </tr>\n",
       "  </thead>\n",
       "  <tbody>\n",
       "    <tr>\n",
       "      <th>0</th>\n",
       "      <td>0</td>\n",
       "      <td>0</td>\n",
       "      <td>-118.180712</td>\n",
       "      <td>33.808985</td>\n",
       "      <td>Unknown</td>\n",
       "      <td>2020/02/28 20:45:40+00</td>\n",
       "      <td>Los Angeles</td>\n",
       "      <td>06037</td>\n",
       "      <td>US-CA</td>\n",
       "      <td>{\"queryCost\":1,\"latitude\":33.8089848330001,\"lo...</td>\n",
       "    </tr>\n",
       "    <tr>\n",
       "      <th>1</th>\n",
       "      <td>1</td>\n",
       "      <td>1</td>\n",
       "      <td>-117.153901</td>\n",
       "      <td>33.176394</td>\n",
       "      <td>NaN</td>\n",
       "      <td>2019/07/01 19:54:00+00</td>\n",
       "      <td>San Diego</td>\n",
       "      <td>06073</td>\n",
       "      <td>US-CA</td>\n",
       "      <td>{\"queryCost\":1,\"latitude\":33.1763937050001,\"lo...</td>\n",
       "    </tr>\n",
       "    <tr>\n",
       "      <th>2</th>\n",
       "      <td>2</td>\n",
       "      <td>2</td>\n",
       "      <td>-121.104180</td>\n",
       "      <td>38.834727</td>\n",
       "      <td>NaN</td>\n",
       "      <td>2016/06/20 22:05:59+00</td>\n",
       "      <td>Placer</td>\n",
       "      <td>06061</td>\n",
       "      <td>US-CA</td>\n",
       "      <td>{\"queryCost\":1,\"latitude\":38.8347273530001,\"lo...</td>\n",
       "    </tr>\n",
       "    <tr>\n",
       "      <th>3</th>\n",
       "      <td>3</td>\n",
       "      <td>3</td>\n",
       "      <td>-117.228592</td>\n",
       "      <td>33.782442</td>\n",
       "      <td>Undetermined</td>\n",
       "      <td>2021/11/25 15:17:32+00</td>\n",
       "      <td>Riverside</td>\n",
       "      <td>06065</td>\n",
       "      <td>US-CA</td>\n",
       "      <td>{\"queryCost\":1,\"latitude\":33.7824418820001,\"lo...</td>\n",
       "    </tr>\n",
       "    <tr>\n",
       "      <th>4</th>\n",
       "      <td>4</td>\n",
       "      <td>4</td>\n",
       "      <td>-118.309032</td>\n",
       "      <td>33.941815</td>\n",
       "      <td>Undetermined</td>\n",
       "      <td>2022/11/21 11:25:33+00</td>\n",
       "      <td>Los Angeles</td>\n",
       "      <td>06037</td>\n",
       "      <td>US-CA</td>\n",
       "      <td>{\"queryCost\":1,\"latitude\":33.9418148400001,\"lo...</td>\n",
       "    </tr>\n",
       "  </tbody>\n",
       "</table>\n",
       "</div>"
      ],
      "text/plain": [
       "   Unnamed: 0.1  Unnamed: 0           X          Y     FireCause  \\\n",
       "0             0           0 -118.180712  33.808985       Unknown   \n",
       "1             1           1 -117.153901  33.176394           NaN   \n",
       "2             2           2 -121.104180  38.834727           NaN   \n",
       "3             3           3 -117.228592  33.782442  Undetermined   \n",
       "4             4           4 -118.309032  33.941815  Undetermined   \n",
       "\n",
       "    FireDiscoveryDateTime    POOCounty POOFips POOState  \\\n",
       "0  2020/02/28 20:45:40+00  Los Angeles   06037    US-CA   \n",
       "1  2019/07/01 19:54:00+00    San Diego   06073    US-CA   \n",
       "2  2016/06/20 22:05:59+00       Placer   06061    US-CA   \n",
       "3  2021/11/25 15:17:32+00    Riverside   06065    US-CA   \n",
       "4  2022/11/21 11:25:33+00  Los Angeles   06037    US-CA   \n",
       "\n",
       "                                        weather_data  \n",
       "0  {\"queryCost\":1,\"latitude\":33.8089848330001,\"lo...  \n",
       "1  {\"queryCost\":1,\"latitude\":33.1763937050001,\"lo...  \n",
       "2  {\"queryCost\":1,\"latitude\":38.8347273530001,\"lo...  \n",
       "3  {\"queryCost\":1,\"latitude\":33.7824418820001,\"lo...  \n",
       "4  {\"queryCost\":1,\"latitude\":33.9418148400001,\"lo...  "
      ]
     },
     "execution_count": 6,
     "metadata": {},
     "output_type": "execute_result"
    }
   ],
   "source": [
    "df.head()"
   ]
  },
  {
   "cell_type": "code",
   "execution_count": 7,
   "id": "c2c58120-cdcc-4205-955e-9bb0f171dd79",
   "metadata": {},
   "outputs": [
    {
     "name": "stdout",
     "output_type": "stream",
     "text": [
      " 250000"
     ]
    }
   ],
   "source": [
    "response = \"\"\n",
    "for index, row in df.iterrows():\n",
    "    if index%500 == 0:\n",
    "        print('\\r', index, end = '', flush=True)\n",
    "    if row[\"weather_data\"] != \"\":\n",
    "        continue\n",
    "    fire_date = row[\"FireDiscoveryDateTime\"].split(\" \")[0].replace(\"/\",\"-\")\n",
    "    lng, lat = str(row[\"Y\"]), str(row[\"X\"])\n",
    "    \n",
    "    url = \"https://weather.visualcrossing.com/VisualCrossingWebServices/rest/services/timeline/\" \\\n",
    "    + lng + \",\" + lat + \"/\" + fire_date + \"/\" + fire_date \\\n",
    "    + \"?unitGroup=us&include=days&key=N34H8P28WBZH5ADUJAVME467A&contentType=json\"\n",
    "    response = requests.request(\"GET\", url)\n",
    "    \n",
    "    if response.status_code!=200:\n",
    "        print(index, 'Unexpected Status code: ', response.status_code, response.text)\n",
    "        break\n",
    "    else:\n",
    "        df.at[index, 'weather_data'] = response.text\n",
    "    if index%100 == 0:\n",
    "        df.to_csv(\"fire_and_weather_data.csv\")\n",
    "df.to_csv(\"fire_and_weather_data.csv\")"
   ]
  },
  {
   "cell_type": "code",
   "execution_count": 8,
   "id": "6b2d50bc-d07c-4590-8210-956bae1cd626",
   "metadata": {},
   "outputs": [
    {
     "data": {
      "text/plain": [
       "False"
      ]
     },
     "execution_count": 8,
     "metadata": {},
     "output_type": "execute_result"
    }
   ],
   "source": [
    "df.at[250000, 'weather_data']==\"\""
   ]
  },
  {
   "cell_type": "code",
   "execution_count": null,
   "id": "aa76f44c-3c49-42e9-80df-5d0e0a32fad8",
   "metadata": {},
   "outputs": [],
   "source": [
    "start_index"
   ]
  },
  {
   "cell_type": "code",
   "execution_count": null,
   "id": "e930efce-f07a-48cc-8525-9a624ed86952",
   "metadata": {},
   "outputs": [],
   "source": [
    "df.to_csv(\"fire_and_weather_data.csv\")"
   ]
  },
  {
   "cell_type": "code",
   "execution_count": null,
   "id": "726a0934-070e-4b77-b28d-84faaa082a3e",
   "metadata": {},
   "outputs": [],
   "source": [
    "json.loads(df['weather_data'][0])"
   ]
  },
  {
   "cell_type": "code",
   "execution_count": 16,
   "id": "b1d29231-29b0-4e73-96ba-50c448a6e2d2",
   "metadata": {},
   "outputs": [],
   "source": [
    "l = (response.text)"
   ]
  },
  {
   "cell_type": "code",
   "execution_count": 19,
   "id": "d949cddf-1170-463e-bef5-ce3ca14bb950",
   "metadata": {},
   "outputs": [
    {
     "data": {
      "text/plain": [
       "1"
      ]
     },
     "execution_count": 19,
     "metadata": {},
     "output_type": "execute_result"
    }
   ],
   "source": []
  },
  {
   "cell_type": "raw",
   "id": "6c824fbb-4408-4d23-8b64-219d9fdceefb",
   "metadata": {},
   "source": [
    "print(response)"
   ]
  }
 ],
 "metadata": {
  "kernelspec": {
   "display_name": "py39-test",
   "language": "python",
   "name": "py39-test"
  },
  "language_info": {
   "codemirror_mode": {
    "name": "ipython",
    "version": 3
   },
   "file_extension": ".py",
   "mimetype": "text/x-python",
   "name": "python",
   "nbconvert_exporter": "python",
   "pygments_lexer": "ipython3",
   "version": "3.9.13"
  }
 },
 "nbformat": 4,
 "nbformat_minor": 5
}
